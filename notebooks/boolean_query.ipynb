{
 "cells": [
  {
   "cell_type": "code",
   "execution_count": 1,
   "metadata": {},
   "outputs": [
    {
     "ename": "ModuleNotFoundError",
     "evalue": "No module named 'algebraic_search'",
     "output_type": "error",
     "traceback": [
      "\u001b[0;31m---------------------------------------------------------------------------\u001b[0m",
      "\u001b[0;31mModuleNotFoundError\u001b[0m                       Traceback (most recent call last)",
      "Cell \u001b[0;32mIn[1], line 1\u001b[0m\n\u001b[0;32m----> 1\u001b[0m \u001b[38;5;28;01mfrom\u001b[39;00m \u001b[38;5;21;01malgebraic_search\u001b[39;00m\u001b[38;5;21;01m.\u001b[39;00m\u001b[38;5;21;01mboolean_query\u001b[39;00m \u001b[38;5;28;01mimport\u001b[39;00m BooleanQuery\n\u001b[1;32m      3\u001b[0m \u001b[38;5;66;03m# Example queries\u001b[39;00m\n\u001b[1;32m      4\u001b[0m q1 \u001b[38;5;241m=\u001b[39m BooleanQuery(\u001b[38;5;124m\"\u001b[39m\u001b[38;5;124mcat dog\u001b[39m\u001b[38;5;124m\"\u001b[39m)\n",
      "\u001b[0;31mModuleNotFoundError\u001b[0m: No module named 'algebraic_search'"
     ]
    }
   ],
   "source": [
    "from algebraic_search.boolean_query import BooleanQuery\n",
    "\n",
    "# Example queries\n",
    "q1 = BooleanQuery(\"cat dog\")\n",
    "q2 = BooleanQuery(\"(or fish bird)\")\n",
    "q3 = ~q2\n",
    "combined_query = q1 & q3  # Represents \"(and (and cat dog) (not (or fish bird)))\"\n",
    "assert str(combined_query) == \"(and (and cat dog) (not (or fish bird)))\"\n",
    "\n",
    "# let's rewrite as  \"((cat dog) (not (or fish bird)))\" for fun\n",
    "q4 = BooleanQuery(\"( cat dog (not (or fish bird)))\")\n",
    "\n",
    "# Example documents\n",
    "documents = [\n",
    "    [\"cat\", \"dog\"],\n",
    "    [\"fish\"],\n",
    "    [\"bird\"],\n",
    "    [\"cat\", \"dog\", \"fish\"],\n",
    "    [\"cat\", \"dog\", \"bird\"],\n",
    "    [\"cat\"],\n",
    "    [\"dog\"],\n",
    "    [\"fish\", \"bird\"],\n",
    "    [\"cat\", \"dog\", \"fish\", \"bird\"],\n",
    "]\n",
    "\n",
    "\n",
    "results1 = q1.eval(documents)\n",
    "print(q1)\n",
    "print(results1)\n",
    "\n",
    "results2 = q2.eval(documents)\n",
    "print(q2)\n",
    "print(results2)\n",
    "\n",
    "results3 = q3.eval(documents)\n",
    "print(q3)\n",
    "print(results3)\n",
    "\n",
    "results4 = q4.eval(documents)\n",
    "print(q4)\n",
    "print(results4)\n",
    "\n",
    "results_combined = combined_query.eval(documents)\n",
    "print(combined_query)\n",
    "print(results_combined)\n",
    "\n"
   ]
  }
 ],
 "metadata": {
  "kernelspec": {
   "display_name": "base",
   "language": "python",
   "name": "python3"
  },
  "language_info": {
   "codemirror_mode": {
    "name": "ipython",
    "version": 3
   },
   "file_extension": ".py",
   "mimetype": "text/x-python",
   "name": "python",
   "nbconvert_exporter": "python",
   "pygments_lexer": "ipython3",
   "version": "3.11.5"
  }
 },
 "nbformat": 4,
 "nbformat_minor": 2
}
