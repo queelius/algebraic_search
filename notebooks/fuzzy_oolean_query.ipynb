{
 "cells": [
  {
   "cell_type": "code",
   "execution_count": 1,
   "metadata": {},
   "outputs": [
    {
     "name": "stdout",
     "output_type": "stream",
     "text": [
      "(and cat dog)\n",
      "ResultQuery([1.0, 0.0, 0.0, 1.0, 1.0, 0.0, 0.0, 0.0, 1.0])\n",
      "(or fish bird)\n",
      "ResultQuery([0.0, 1.0, 1.0, 1.0, 1.0, 0.0, 0.0, 1.0, 1.0])\n",
      "(not (or fish bird))\n",
      "ResultQuery([1.0, 0.0, 0.0, 0.0, 0.0, 1.0, 1.0, 0.0, 0.0])\n",
      "(and cat dog (not (or fish bird)))\n",
      "ResultQuery([1.0, 0.0, 0.0, 0.0, 0.0, 0.0, 0.0, 0.0, 0.0])\n",
      "(and (and cat dog) (not (or fish bird)))\n",
      "ResultQuery([1.0, 0.0, 0.0, 0.0, 0.0, 0.0, 0.0, 0.0, 0.0])\n"
     ]
    }
   ],
   "source": [
    "from algebraic_search.fuzzy_boolean_query import FuzzyBooleanQuery\n",
    "from algebraic_search.result_query import ResultQuery\n",
    "\n",
    "# Example queries\n",
    "q1 = FuzzyBooleanQuery(\"cat dog\")\n",
    "q2 = FuzzyBooleanQuery(\"(or fish bird)\")\n",
    "q3 = ~q2\n",
    "combined_query = q1 & q3  # Represents \"(and (and cat dog) (not (or fish bird)))\"\n",
    "assert str(combined_query) == \"(and (and cat dog) (not (or fish bird)))\"\n",
    "\n",
    "# let's rewrite as  \"((cat dog) (not (or fish bird)))\" for fun\n",
    "q4 = FuzzyBooleanQuery(\"( cat dog (not (or fish bird)))\")\n",
    "\n",
    "# Example documents\n",
    "documents = [\n",
    "    [\"cat\", \"dog\"],\n",
    "    [\"fish\"],\n",
    "    [\"bird\"],\n",
    "    [\"cat\", \"dog\", \"fish\"],\n",
    "    [\"cat\", \"dog\", \"bird\"],\n",
    "    [\"cat\"],\n",
    "    [\"dog\"],\n",
    "    [\"fish\", \"bird\"],\n",
    "    [\"cat\", \"dog\", \"fish\", \"bird\"],\n",
    "]\n",
    "\n",
    "\n",
    "results1 = q1.eval(documents)\n",
    "print(q1)\n",
    "print(results1)\n",
    "\n",
    "results2 = q2.eval(documents)\n",
    "print(q2)\n",
    "print(results2)\n",
    "\n",
    "results3 = q3.eval(documents)\n",
    "print(q3)\n",
    "print(results3)\n",
    "\n",
    "results4 = q4.eval(documents)\n",
    "print(q4)\n",
    "print(results4)\n",
    "\n",
    "results_combined = combined_query.eval(documents)\n",
    "print(combined_query)\n",
    "print(results_combined)\n",
    "\n"
   ]
  }
 ],
 "metadata": {
  "kernelspec": {
   "display_name": "base",
   "language": "python",
   "name": "python3"
  },
  "language_info": {
   "codemirror_mode": {
    "name": "ipython",
    "version": 3
   },
   "file_extension": ".py",
   "mimetype": "text/x-python",
   "name": "python",
   "nbconvert_exporter": "python",
   "pygments_lexer": "ipython3",
   "version": "3.11.5"
  }
 },
 "nbformat": 4,
 "nbformat_minor": 2
}
